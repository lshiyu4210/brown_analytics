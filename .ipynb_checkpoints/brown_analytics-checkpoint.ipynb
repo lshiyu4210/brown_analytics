{
 "cells": [
  {
   "cell_type": "code",
   "execution_count": null,
   "metadata": {},
   "outputs": [
    {
     "name": "stderr",
     "output_type": "stream",
     "text": [
      "your 131072x1 screen size is bogus. expect trouble\n",
      "24/11/28 14:28:20 WARN Utils: Your hostname, LAPTOP-8R881B48 resolves to a loopback address: 127.0.1.1; using 10.255.255.254 instead (on interface lo)\n",
      "24/11/28 14:28:20 WARN Utils: Set SPARK_LOCAL_IP if you need to bind to another address\n",
      "Setting default log level to \"WARN\".\n",
      "To adjust logging level use sc.setLogLevel(newLevel). For SparkR, use setLogLevel(newLevel).\n",
      "24/11/28 14:28:20 WARN NativeCodeLoader: Unable to load native-hadoop library for your platform... using builtin-java classes where applicable\n"
     ]
    },
    {
     "name": "stderr",
     "output_type": "stream",
     "text": [
      "24/11/28 14:28:33 WARN GarbageCollectionMetrics: To enable non-built-in garbage collector(s) List(G1 Concurrent GC), users should configure it(them) to spark.eventLog.gcMetrics.youngGenerationGarbageCollectors or spark.eventLog.gcMetrics.oldGenerationGarbageCollectors\n"
     ]
    }
   ],
   "source": [
    "from pyspark.sql import SparkSession\n",
    "\n",
    "spark = SparkSession.builder \\\n",
    "    .appName(\"Load CSV into Tables\") \\\n",
    "    .config(\"spark.sql.catalogImplementation\", \"hive\") \\\n",
    "    .enableHiveSupport() \\\n",
    "    .getOrCreate()"
   ]
  },
  {
   "cell_type": "code",
   "execution_count": 4,
   "metadata": {},
   "outputs": [
    {
     "name": "stdout",
     "output_type": "stream",
     "text": [
      "+---------+--------------------+--------------------+---------+----------+----------+\n",
      "|sentiment|     publication_URL|         product_URL|got_click|    gender| age_group|\n",
      "+---------+--------------------+--------------------+---------+----------+----------+\n",
      "| positive|https://www.foxne...|https://lees.com/...|        0|    female|  juvenile|\n",
      "|  neutral|https://www.mirro...|https://coach.com...|        0|      male|     young|\n",
      "| negative|https://www.nbcne...|https://covergirl...|        0|      male|middle-age|\n",
      "| positive|https://www.exami...|https://covergirl...|        0|non-binary|  juvenile|\n",
      "| negative|  https://www.nj.com|https://dell.com/...|        1|    female|     young|\n",
      "+---------+--------------------+--------------------+---------+----------+----------+\n",
      "only showing top 5 rows\n",
      "\n",
      "root\n",
      " |-- sentiment: string (nullable = true)\n",
      " |-- publication_URL: string (nullable = true)\n",
      " |-- product_URL: string (nullable = true)\n",
      " |-- got_click: integer (nullable = true)\n",
      " |-- gender: string (nullable = true)\n",
      " |-- age_group: string (nullable = true)\n",
      "\n"
     ]
    }
   ],
   "source": [
    "# Load log.csv\n",
    "log = spark.read.csv('log.csv', header=False, inferSchema=True)\n",
    "names_list = [\"sentiment\", \"publication_URL\", \"product_URL\", \"got_click\", \"gender\", \"age_group\"]\n",
    "log = log.toDF(*names_list)\n",
    "log.show(5)  \n",
    "log.printSchema()  "
   ]
  },
  {
   "cell_type": "code",
   "execution_count": 7,
   "metadata": {},
   "outputs": [
    {
     "name": "stdout",
     "output_type": "stream",
     "text": [
      "+---------------+--------------------+\n",
      "|        product|            category|\n",
      "+---------------+--------------------+\n",
      "|        blender| small kitchen ap...|\n",
      "|pressure cooker| small kitchen ap...|\n",
      "|       computer| consumer electro...|\n",
      "|         coffee|       packaged food|\n",
      "|        vitamin|              health|\n",
      "+---------------+--------------------+\n",
      "only showing top 5 rows\n",
      "\n",
      "root\n",
      " |-- product: string (nullable = true)\n",
      " |-- category: string (nullable = true)\n",
      "\n"
     ]
    }
   ],
   "source": [
    "# Load product_categories.csv\n",
    "product_cat = spark.read.csv('product_categories.csv', header=True, inferSchema=True)\n",
    "product_cat.show(5)\n",
    "product_cat.printSchema()"
   ]
  },
  {
   "cell_type": "code",
   "execution_count": 8,
   "metadata": {},
   "outputs": [
    {
     "name": "stdout",
     "output_type": "stream",
     "text": [
      "+--------------------+--------------------+---------------+\n",
      "|             product|         product_URL|   product_type|\n",
      "+--------------------+--------------------+---------------+\n",
      "|     Vitamix blender| https://vitamix....|        blender|\n",
      "|       Lenova laptop| https://lenova.c...|       computer|\n",
      "|InstantPot pressu...|https://InstantPo...|pressure cooker|\n",
      "|       NemoK blender|http://nemoK.co/b...|        blender|\n",
      "|Hamilton Beach bl...|https://HamiltonB...|        blender|\n",
      "+--------------------+--------------------+---------------+\n",
      "only showing top 5 rows\n",
      "\n",
      "root\n",
      " |-- product: string (nullable = true)\n",
      " |-- product_URL: string (nullable = true)\n",
      " |-- product_type: string (nullable = true)\n",
      "\n"
     ]
    }
   ],
   "source": [
    "# Load products.csv\n",
    "products = spark.read.csv('products.csv', header=True, inferSchema=True)\n",
    "products.show(5)\n",
    "products.printSchema()"
   ]
  },
  {
   "cell_type": "code",
   "execution_count": 37,
   "metadata": {},
   "outputs": [
    {
     "name": "stdout",
     "output_type": "stream",
     "text": [
      "46\n",
      "+--------------------------+--------------+\n",
      "|product                   |distinct_count|\n",
      "+--------------------------+--------------+\n",
      "|Coach purse               |18            |\n",
      "|Docker pants              |13            |\n",
      "|Remington shaver          |11            |\n",
      "|Maytag washer             |21            |\n",
      "|Ikea sofa                 |11            |\n",
      "|Levis Jeans               |17            |\n",
      "|Samsung TV                |12            |\n",
      "|covergirl lipstick        |11            |\n",
      "|Covergirl makeup          |16            |\n",
      "|Haier refrigerator        |10            |\n",
      "|Centrum MultiVitamins     |19            |\n",
      "|Apple iPad                |17            |\n",
      "|Soundwave speakers        |14            |\n",
      "|LG washer                 |14            |\n",
      "|Samsung washer            |19            |\n",
      "|Maytag refrigerator       |9             |\n",
      "|Samsung dryer             |13            |\n",
      "|Ford  sedan               |15            |\n",
      "|bose speakers             |15            |\n",
      "|LG TV                     |13            |\n",
      "|BasilBasel perfume        |15            |\n",
      "|Apple laptop              |10            |\n",
      "|Givenchy perfume          |17            |\n",
      "|Tesla                     |17            |\n",
      "|Gillette shaver           |11            |\n",
      "|NemoK blender             |17            |\n",
      "|LG dryer                  |12            |\n",
      "|Dell computer             |16            |\n",
      "|Lee jeans                 |15            |\n",
      "|Maybelline lipstick       |15            |\n",
      "|NordicTrack treadmill     |19            |\n",
      "|Cougar jeans              |17            |\n",
      "|Lavazza Coffee            |9             |\n",
      "|Kaai handbags             |15            |\n",
      "|Broyhill recliner         |16            |\n",
      "|Maytag dryer              |14            |\n",
      "|Dell laptop               |22            |\n",
      "|Guess perfume             |13            |\n",
      "|Giorgio perfume           |14            |\n",
      "|Jaguar perfume            |12            |\n",
      "|NordicTrack rower         |17            |\n",
      "|Starbucks Coffee          |19            |\n",
      "|Apple computer            |14            |\n",
      "|Sony TV                   |13            |\n",
      "|InstantPot pressure cooker|14            |\n",
      "|Clinique moisturizer      |16            |\n",
      "+--------------------------+--------------+\n",
      "\n"
     ]
    }
   ],
   "source": [
    "# For each product, compute all the Publication_URLs containing an ad for that product.\n",
    "from pyspark.sql.functions import countDistinct\n",
    "\n",
    "product_log = log.join(products, on=\"product_URL\", how=\"inner\")\n",
    "publication_count = product_log.groupBy(\"product\").agg(\n",
    "    countDistinct(\"publication_URL\").alias(\"distinct_count\")\n",
    ")\n",
    "print(publication_count.count())\n",
    "publication_count.show(n=publication_count.count(), truncate=False)\n"
   ]
  },
  {
   "cell_type": "code",
   "execution_count": 38,
   "metadata": {},
   "outputs": [
    {
     "name": "stdout",
     "output_type": "stream",
     "text": [
      "23\n",
      "+---------------+--------------+\n",
      "|product_type   |distinct_count|\n",
      "+---------------+--------------+\n",
      "|television     |24            |\n",
      "|refrigerator   |17            |\n",
      "|lipstick       |21            |\n",
      "|face cream     |16            |\n",
      "|vitamin        |19            |\n",
      "|tablet         |17            |\n",
      "|rowing machine |17            |\n",
      "|pressure cooker|14            |\n",
      "|shaver         |18            |\n",
      "|washer         |34            |\n",
      "|makeup         |16            |\n",
      "|women's purse  |24            |\n",
      "|jeans          |31            |\n",
      "|furniture      |23            |\n",
      "|dryer          |27            |\n",
      "|computer       |35            |\n",
      "|coffee         |23            |\n",
      "|speakers       |23            |\n",
      "|car            |25            |\n",
      "|treadmill      |19            |\n",
      "|perfume        |36            |\n",
      "|blender        |17            |\n",
      "|pants          |13            |\n",
      "+---------------+--------------+\n",
      "\n"
     ]
    }
   ],
   "source": [
    "# For each product type, compute all the Publication_URLs containing an ad for that product type.\n",
    "product_type = product_log.groupBy(\"product_type\").agg(\n",
    "    countDistinct(\"publication_URL\").alias(\"distinct_count\")\n",
    ")\n",
    "print(product_type.count())\n",
    "product_type.show(n=product_type.count(), truncate=False)"
   ]
  },
  {
   "cell_type": "code",
   "execution_count": 40,
   "metadata": {},
   "outputs": [
    {
     "name": "stdout",
     "output_type": "stream",
     "text": [
      "46\n",
      "+--------------------------+------------+-----------+-------------------+\n",
      "|product                   |total_clicks|total_count|click_rate         |\n",
      "+--------------------------+------------+-----------+-------------------+\n",
      "|Coach purse               |89          |229        |0.388646288209607  |\n",
      "|Docker pants              |106         |155        |0.6838709677419355 |\n",
      "|Remington shaver          |50          |143        |0.34965034965034963|\n",
      "|Maytag washer             |146         |288        |0.5069444444444444 |\n",
      "|Ikea sofa                 |102         |178        |0.5730337078651685 |\n",
      "|Levis Jeans               |151         |226        |0.668141592920354  |\n",
      "|Samsung TV                |116         |159        |0.7295597484276729 |\n",
      "|covergirl lipstick        |112         |137        |0.8175182481751825 |\n",
      "|Covergirl makeup          |51          |202        |0.2524752475247525 |\n",
      "|Haier refrigerator        |33          |159        |0.20754716981132076|\n",
      "|Centrum MultiVitamins     |151         |241        |0.6265560165975104 |\n",
      "|Apple iPad                |133         |264        |0.5037878787878788 |\n",
      "|Soundwave speakers        |113         |207        |0.5458937198067633 |\n",
      "|LG washer                 |106         |214        |0.4953271028037383 |\n",
      "|Samsung washer            |146         |264        |0.553030303030303  |\n",
      "|Samsung dryer             |68          |156        |0.4358974358974359 |\n",
      "|Maytag refrigerator       |46          |116        |0.39655172413793105|\n",
      "|Ford  sedan               |31          |227        |0.13656387665198239|\n",
      "|bose speakers             |103         |196        |0.5255102040816326 |\n",
      "|BasilBasel perfume        |100         |154        |0.6493506493506493 |\n",
      "|LG TV                     |75          |156        |0.4807692307692308 |\n",
      "|Apple laptop              |70          |124        |0.5645161290322581 |\n",
      "|Givenchy perfume          |97          |211        |0.4597156398104265 |\n",
      "|Tesla                     |142         |240        |0.5916666666666667 |\n",
      "|Gillette shaver           |112         |157        |0.7133757961783439 |\n",
      "|NemoK blender             |139         |244        |0.569672131147541  |\n",
      "|LG dryer                  |87          |138        |0.6304347826086957 |\n",
      "|Dell computer             |144         |221        |0.6515837104072398 |\n",
      "|Lee jeans                 |99          |212        |0.4669811320754717 |\n",
      "|Maybelline lipstick       |115         |205        |0.5609756097560976 |\n",
      "|NordicTrack treadmill     |119         |243        |0.4897119341563786 |\n",
      "|Cougar jeans              |71          |273        |0.2600732600732601 |\n",
      "|Lavazza Coffee            |66          |117        |0.5641025641025641 |\n",
      "|Kaai handbags             |132         |200        |0.66               |\n",
      "|Broyhill recliner         |110         |204        |0.5392156862745098 |\n",
      "|Maytag dryer              |70          |203        |0.3448275862068966 |\n",
      "|Dell laptop               |220         |698        |0.3151862464183381 |\n",
      "|Guess perfume             |70          |172        |0.4069767441860465 |\n",
      "|Giorgio perfume           |171         |214        |0.7990654205607477 |\n",
      "|Jaguar perfume            |62          |131        |0.4732824427480916 |\n",
      "|NordicTrack rower         |42          |188        |0.22340425531914893|\n",
      "|Starbucks Coffee          |85          |308        |0.275974025974026  |\n",
      "|Apple computer            |160         |202        |0.7920792079207921 |\n",
      "|InstantPot pressure cooker|96          |192        |0.5                |\n",
      "|Sony TV                   |66          |168        |0.39285714285714285|\n",
      "|Clinique moisturizer      |174         |216        |0.8055555555555556 |\n",
      "+--------------------------+------------+-----------+-------------------+\n",
      "\n"
     ]
    }
   ],
   "source": [
    "# For each product, compute the click rate for it. Click rate is the number of times a display of \n",
    "# an ad was clicked on (by any user) divided by the number of times it was displayed (to any user). \n",
    "# Note the click rate is not specific to each user.\n",
    "from pyspark.sql.functions import col, sum, count\n",
    "\n",
    "product_click = product_log.groupBy(\"product\").agg(\n",
    "    sum(col(\"got_click\")).alias(\"total_clicks\"),\n",
    "    count(\"*\").alias(\"total_count\")\n",
    ")\n",
    "product_click = product_click.withColumn(\n",
    "    \"click_rate\", col(\"total_clicks\") / col(\"total_count\")\n",
    ")\n",
    "print(product_click.count())\n",
    "product_click.show(n=product_click.count(), truncate=False)"
   ]
  },
  {
   "cell_type": "code",
   "execution_count": 39,
   "metadata": {},
   "outputs": [
    {
     "name": "stdout",
     "output_type": "stream",
     "text": [
      "138\n",
      "+--------------------------+---------+------------+-----------+--------------------+\n",
      "|product                   |sentiment|total_clicks|total_count|click_rate          |\n",
      "+--------------------------+---------+------------+-----------+--------------------+\n",
      "|Apple computer            |negative |48          |69         |0.6956521739130435  |\n",
      "|Apple computer            |neutral  |60          |65         |0.9230769230769231  |\n",
      "|Apple computer            |positive |52          |68         |0.7647058823529411  |\n",
      "|Apple iPad                |negative |36          |92         |0.391304347826087   |\n",
      "|Apple iPad                |neutral  |54          |86         |0.627906976744186   |\n",
      "|Apple iPad                |positive |43          |86         |0.5                 |\n",
      "|Apple laptop              |negative |6           |39         |0.15384615384615385 |\n",
      "|Apple laptop              |neutral  |30          |41         |0.7317073170731707  |\n",
      "|Apple laptop              |positive |34          |44         |0.7727272727272727  |\n",
      "|BasilBasel perfume        |negative |27          |35         |0.7714285714285715  |\n",
      "|BasilBasel perfume        |neutral  |51          |59         |0.864406779661017   |\n",
      "|BasilBasel perfume        |positive |22          |60         |0.36666666666666664 |\n",
      "|Broyhill recliner         |negative |57          |70         |0.8142857142857143  |\n",
      "|Broyhill recliner         |neutral  |36          |64         |0.5625              |\n",
      "|Broyhill recliner         |positive |17          |70         |0.24285714285714285 |\n",
      "|Centrum MultiVitamins     |negative |71          |85         |0.8352941176470589  |\n",
      "|Centrum MultiVitamins     |neutral  |66          |81         |0.8148148148148148  |\n",
      "|Centrum MultiVitamins     |positive |14          |75         |0.18666666666666668 |\n",
      "|Clinique moisturizer      |negative |65          |72         |0.9027777777777778  |\n",
      "|Clinique moisturizer      |neutral  |67          |72         |0.9305555555555556  |\n",
      "|Clinique moisturizer      |positive |42          |72         |0.5833333333333334  |\n",
      "|Coach purse               |negative |25          |79         |0.31645569620253167 |\n",
      "|Coach purse               |neutral  |34          |75         |0.4533333333333333  |\n",
      "|Coach purse               |positive |30          |75         |0.4                 |\n",
      "|Cougar jeans              |negative |8           |96         |0.08333333333333333 |\n",
      "|Cougar jeans              |neutral  |24          |77         |0.3116883116883117  |\n",
      "|Cougar jeans              |positive |39          |100        |0.39                |\n",
      "|Covergirl makeup          |negative |8           |71         |0.11267605633802817 |\n",
      "|Covergirl makeup          |neutral  |30          |78         |0.38461538461538464 |\n",
      "|Covergirl makeup          |positive |13          |53         |0.24528301886792453 |\n",
      "|Dell computer             |negative |59          |71         |0.8309859154929577  |\n",
      "|Dell computer             |neutral  |26          |68         |0.38235294117647056 |\n",
      "|Dell computer             |positive |59          |82         |0.7195121951219512  |\n",
      "|Dell laptop               |negative |34          |234        |0.1452991452991453  |\n",
      "|Dell laptop               |neutral  |90          |252        |0.35714285714285715 |\n",
      "|Dell laptop               |positive |96          |212        |0.4528301886792453  |\n",
      "|Docker pants              |negative |56          |67         |0.835820895522388   |\n",
      "|Docker pants              |neutral  |35          |43         |0.813953488372093   |\n",
      "|Docker pants              |positive |15          |45         |0.3333333333333333  |\n",
      "|Ford  sedan               |negative |1           |76         |0.013157894736842105|\n",
      "|Ford  sedan               |neutral  |9           |72         |0.125               |\n",
      "|Ford  sedan               |positive |21          |79         |0.26582278481012656 |\n",
      "|Gillette shaver           |negative |57          |63         |0.9047619047619048  |\n",
      "|Gillette shaver           |neutral  |49          |51         |0.9607843137254902  |\n",
      "|Gillette shaver           |positive |6           |43         |0.13953488372093023 |\n",
      "|Giorgio perfume           |negative |53          |83         |0.6385542168674698  |\n",
      "|Giorgio perfume           |neutral  |64          |66         |0.9696969696969697  |\n",
      "|Giorgio perfume           |positive |54          |65         |0.8307692307692308  |\n",
      "|Givenchy perfume          |negative |50          |66         |0.7575757575757576  |\n",
      "|Givenchy perfume          |neutral  |23          |76         |0.3026315789473684  |\n",
      "|Givenchy perfume          |positive |24          |69         |0.34782608695652173 |\n",
      "|Guess perfume             |negative |10          |58         |0.1724137931034483  |\n",
      "|Guess perfume             |neutral  |19          |62         |0.3064516129032258  |\n",
      "|Guess perfume             |positive |41          |52         |0.7884615384615384  |\n",
      "|Haier refrigerator        |negative |9           |52         |0.17307692307692307 |\n",
      "|Haier refrigerator        |neutral  |9           |54         |0.16666666666666666 |\n",
      "|Haier refrigerator        |positive |15          |53         |0.2830188679245283  |\n",
      "|Ikea sofa                 |negative |42          |50         |0.84                |\n",
      "|Ikea sofa                 |neutral  |41          |69         |0.5942028985507246  |\n",
      "|Ikea sofa                 |positive |19          |59         |0.3220338983050847  |\n",
      "|InstantPot pressure cooker|negative |0           |70         |0.0                 |\n",
      "|InstantPot pressure cooker|neutral  |51          |59         |0.864406779661017   |\n",
      "|InstantPot pressure cooker|positive |45          |63         |0.7142857142857143  |\n",
      "|Jaguar perfume            |negative |20          |46         |0.43478260869565216 |\n",
      "|Jaguar perfume            |neutral  |28          |40         |0.7                 |\n",
      "|Jaguar perfume            |positive |14          |45         |0.3111111111111111  |\n",
      "|Kaai handbags             |negative |26          |53         |0.49056603773584906 |\n",
      "|Kaai handbags             |neutral  |66          |69         |0.9565217391304348  |\n",
      "|Kaai handbags             |positive |40          |78         |0.5128205128205128  |\n",
      "|LG TV                     |negative |20          |67         |0.29850746268656714 |\n",
      "|LG TV                     |neutral  |26          |44         |0.5909090909090909  |\n",
      "|LG TV                     |positive |29          |45         |0.6444444444444445  |\n",
      "|LG dryer                  |negative |32          |47         |0.6808510638297872  |\n",
      "|LG dryer                  |neutral  |38          |48         |0.7916666666666666  |\n",
      "|LG dryer                  |positive |17          |43         |0.3953488372093023  |\n",
      "|LG washer                 |negative |12          |78         |0.15384615384615385 |\n",
      "|LG washer                 |neutral  |31          |60         |0.5166666666666667  |\n",
      "|LG washer                 |positive |63          |76         |0.8289473684210527  |\n",
      "|Lavazza Coffee            |negative |37          |44         |0.8409090909090909  |\n",
      "|Lavazza Coffee            |neutral  |17          |38         |0.4473684210526316  |\n",
      "|Lavazza Coffee            |positive |12          |35         |0.34285714285714286 |\n",
      "|Lee jeans                 |negative |25          |73         |0.3424657534246575  |\n",
      "|Lee jeans                 |neutral  |49          |63         |0.7777777777777778  |\n",
      "|Lee jeans                 |positive |25          |76         |0.32894736842105265 |\n",
      "|Levis Jeans               |negative |34          |84         |0.40476190476190477 |\n",
      "|Levis Jeans               |neutral  |52          |65         |0.8                 |\n",
      "|Levis Jeans               |positive |65          |77         |0.8441558441558441  |\n",
      "|Maybelline lipstick       |negative |54          |61         |0.8852459016393442  |\n",
      "|Maybelline lipstick       |neutral  |17          |81         |0.20987654320987653 |\n",
      "|Maybelline lipstick       |positive |44          |63         |0.6984126984126984  |\n",
      "|Maytag dryer              |negative |8           |68         |0.11764705882352941 |\n",
      "|Maytag dryer              |neutral  |43          |61         |0.7049180327868853  |\n",
      "|Maytag dryer              |positive |19          |74         |0.25675675675675674 |\n",
      "|Maytag refrigerator       |negative |2           |38         |0.05263157894736842 |\n",
      "|Maytag refrigerator       |neutral  |26          |36         |0.7222222222222222  |\n",
      "|Maytag refrigerator       |positive |18          |42         |0.42857142857142855 |\n",
      "|Maytag washer             |negative |83          |90         |0.9222222222222223  |\n",
      "|Maytag washer             |neutral  |34          |94         |0.3617021276595745  |\n",
      "|Maytag washer             |positive |29          |104        |0.27884615384615385 |\n",
      "|NemoK blender             |negative |90          |92         |0.9782608695652174  |\n",
      "|NemoK blender             |neutral  |29          |89         |0.3258426966292135  |\n",
      "|NemoK blender             |positive |20          |63         |0.31746031746031744 |\n",
      "|NordicTrack rower         |negative |13          |65         |0.2                 |\n",
      "|NordicTrack rower         |neutral  |7           |49         |0.14285714285714285 |\n",
      "|NordicTrack rower         |positive |22          |74         |0.2972972972972973  |\n",
      "|NordicTrack treadmill     |negative |25          |79         |0.31645569620253167 |\n",
      "|NordicTrack treadmill     |neutral  |52          |89         |0.5842696629213483  |\n",
      "|NordicTrack treadmill     |positive |42          |75         |0.56                |\n",
      "|Remington shaver          |negative |9           |62         |0.14516129032258066 |\n",
      "|Remington shaver          |neutral  |9           |38         |0.23684210526315788 |\n",
      "|Remington shaver          |positive |32          |43         |0.7441860465116279  |\n",
      "|Samsung TV                |negative |30          |45         |0.6666666666666666  |\n",
      "|Samsung TV                |neutral  |41          |50         |0.82                |\n",
      "|Samsung TV                |positive |45          |64         |0.703125            |\n",
      "|Samsung dryer             |negative |16          |58         |0.27586206896551724 |\n",
      "|Samsung dryer             |neutral  |38          |53         |0.7169811320754716  |\n",
      "|Samsung dryer             |positive |14          |45         |0.3111111111111111  |\n",
      "|Samsung washer            |negative |0           |84         |0.0                 |\n",
      "|Samsung washer            |neutral  |58          |82         |0.7073170731707317  |\n",
      "|Samsung washer            |positive |88          |98         |0.8979591836734694  |\n",
      "|Sony TV                   |negative |3           |54         |0.05555555555555555 |\n",
      "|Sony TV                   |neutral  |38          |56         |0.6785714285714286  |\n",
      "|Sony TV                   |positive |25          |58         |0.43103448275862066 |\n",
      "|Soundwave speakers        |negative |8           |67         |0.11940298507462686 |\n",
      "|Soundwave speakers        |neutral  |64          |67         |0.9552238805970149  |\n",
      "|Soundwave speakers        |positive |41          |73         |0.5616438356164384  |\n",
      "|Starbucks Coffee          |negative |30          |100        |0.3                 |\n",
      "|Starbucks Coffee          |neutral  |33          |102        |0.3235294117647059  |\n",
      "|Starbucks Coffee          |positive |22          |106        |0.20754716981132076 |\n",
      "|Tesla                     |negative |57          |72         |0.7916666666666666  |\n",
      "|Tesla                     |neutral  |80          |81         |0.9876543209876543  |\n",
      "|Tesla                     |positive |5           |87         |0.05747126436781609 |\n",
      "|bose speakers             |negative |37          |62         |0.5967741935483871  |\n",
      "|bose speakers             |neutral  |32          |69         |0.463768115942029   |\n",
      "|bose speakers             |positive |34          |65         |0.5230769230769231  |\n",
      "|covergirl lipstick        |negative |18          |43         |0.4186046511627907  |\n",
      "|covergirl lipstick        |neutral  |48          |48         |1.0                 |\n",
      "|covergirl lipstick        |positive |46          |46         |1.0                 |\n",
      "+--------------------------+---------+------------+-----------+--------------------+\n",
      "\n"
     ]
    }
   ],
   "source": [
    "# For each product, compute the click rate for each sentiment type\n",
    "product_sent_click = product_log.groupBy(\"product\", \"sentiment\").agg(\n",
    "    sum(col(\"got_click\")).alias(\"total_clicks\"),\n",
    "    count(\"*\").alias(\"total_count\")\n",
    ")\n",
    "product_sent_click = product_sent_click.withColumn(\n",
    "    \"click_rate\", col(\"total_clicks\") / col(\"total_count\")\n",
    ")\n",
    "product_sent_click = product_sent_click.orderBy(\"product\", \"sentiment\")\n",
    "print(product_sent_click.count())\n",
    "product_sent_click.show(n=product_sent_click.count(), truncate=False)\n"
   ]
  },
  {
   "cell_type": "code",
   "execution_count": 36,
   "metadata": {},
   "outputs": [
    {
     "name": "stdout",
     "output_type": "stream",
     "text": [
      "23\n",
      "+---------------+------------+-----------+-------------------+\n",
      "|product_type   |total_clicks|total_count|click_rate         |\n",
      "+---------------+------------+-----------+-------------------+\n",
      "|television     |257         |483        |0.5320910973084886 |\n",
      "|refrigerator   |79          |275        |0.2872727272727273 |\n",
      "|lipstick       |227         |342        |0.6637426900584795 |\n",
      "|face cream     |174         |216        |0.8055555555555556 |\n",
      "|vitamin        |151         |241        |0.6265560165975104 |\n",
      "|tablet         |133         |264        |0.5037878787878788 |\n",
      "|rowing machine |42          |188        |0.22340425531914893|\n",
      "|pressure cooker|96          |192        |0.5                |\n",
      "|shaver         |162         |300        |0.54               |\n",
      "|washer         |398         |766        |0.5195822454308094 |\n",
      "|makeup         |51          |202        |0.2524752475247525 |\n",
      "|women's purse  |221         |429        |0.5151515151515151 |\n",
      "|jeans          |321         |711        |0.45147679324894513|\n",
      "|furniture      |212         |382        |0.5549738219895288 |\n",
      "|dryer          |225         |497        |0.45271629778672035|\n",
      "|computer       |594         |1245       |0.4771084337349398 |\n",
      "|coffee         |151         |425        |0.3552941176470588 |\n",
      "|speakers       |216         |403        |0.5359801488833746 |\n",
      "|car            |173         |467        |0.37044967880085655|\n",
      "|treadmill      |119         |243        |0.4897119341563786 |\n",
      "|perfume        |500         |882        |0.5668934240362812 |\n",
      "|blender        |139         |244        |0.569672131147541  |\n",
      "|pants          |106         |155        |0.6838709677419355 |\n",
      "+---------------+------------+-----------+-------------------+\n",
      "\n"
     ]
    }
   ],
   "source": [
    "# For each product type, compute the click rate for it.\n",
    "type_click = product_log.groupBy(\"product_type\").agg(\n",
    "    sum(col(\"got_click\")).alias(\"total_clicks\"),\n",
    "    count(\"*\").alias(\"total_count\")\n",
    ")\n",
    "type_click = type_click.withColumn(\n",
    "    \"click_rate\", col(\"total_clicks\") / col(\"total_count\")\n",
    ")\n",
    "print(type_click.count())\n",
    "type_click.show(n=type_click.count(), truncate=False)"
   ]
  },
  {
   "cell_type": "code",
   "execution_count": 35,
   "metadata": {},
   "outputs": [
    {
     "name": "stdout",
     "output_type": "stream",
     "text": [
      "69\n",
      "+---------------+---------+------------+-----------+-------------------+\n",
      "|product_type   |sentiment|total_clicks|total_count|click_rate         |\n",
      "+---------------+---------+------------+-----------+-------------------+\n",
      "|blender        |negative |90          |92         |0.9782608695652174 |\n",
      "|blender        |neutral  |29          |89         |0.3258426966292135 |\n",
      "|blender        |positive |20          |63         |0.31746031746031744|\n",
      "|car            |negative |58          |148        |0.3918918918918919 |\n",
      "|car            |neutral  |89          |153        |0.5816993464052288 |\n",
      "|car            |positive |26          |166        |0.1566265060240964 |\n",
      "|coffee         |negative |67          |144        |0.4652777777777778 |\n",
      "|coffee         |neutral  |50          |140        |0.35714285714285715|\n",
      "|coffee         |positive |34          |141        |0.24113475177304963|\n",
      "|computer       |negative |147         |413        |0.3559322033898305 |\n",
      "|computer       |neutral  |206         |426        |0.4835680751173709 |\n",
      "|computer       |positive |241         |406        |0.5935960591133005 |\n",
      "|dryer          |negative |56          |173        |0.3236994219653179 |\n",
      "|dryer          |neutral  |119         |162        |0.7345679012345679 |\n",
      "|dryer          |positive |50          |162        |0.30864197530864196|\n",
      "|face cream     |negative |65          |72         |0.9027777777777778 |\n",
      "|face cream     |neutral  |67          |72         |0.9305555555555556 |\n",
      "|face cream     |positive |42          |72         |0.5833333333333334 |\n",
      "|furniture      |negative |99          |120        |0.825              |\n",
      "|furniture      |neutral  |77          |133        |0.5789473684210527 |\n",
      "|furniture      |positive |36          |129        |0.27906976744186046|\n",
      "|jeans          |negative |67          |253        |0.2648221343873518 |\n",
      "|jeans          |neutral  |125         |205        |0.6097560975609756 |\n",
      "|jeans          |positive |129         |253        |0.5098814229249012 |\n",
      "|lipstick       |negative |72          |104        |0.6923076923076923 |\n",
      "|lipstick       |neutral  |65          |129        |0.5038759689922481 |\n",
      "|lipstick       |positive |90          |109        |0.8256880733944955 |\n",
      "|makeup         |negative |8           |71         |0.11267605633802817|\n",
      "|makeup         |neutral  |30          |78         |0.38461538461538464|\n",
      "|makeup         |positive |13          |53         |0.24528301886792453|\n",
      "|pants          |negative |56          |67         |0.835820895522388  |\n",
      "|pants          |neutral  |35          |43         |0.813953488372093  |\n",
      "|pants          |positive |15          |45         |0.3333333333333333 |\n",
      "|perfume        |negative |160         |288        |0.5555555555555556 |\n",
      "|perfume        |neutral  |185         |303        |0.6105610561056105 |\n",
      "|perfume        |positive |155         |291        |0.5326460481099656 |\n",
      "|pressure cooker|negative |0           |70         |0.0                |\n",
      "|pressure cooker|neutral  |51          |59         |0.864406779661017  |\n",
      "|pressure cooker|positive |45          |63         |0.7142857142857143 |\n",
      "|refrigerator   |negative |11          |90         |0.12222222222222222|\n",
      "|refrigerator   |neutral  |35          |90         |0.3888888888888889 |\n",
      "|refrigerator   |positive |33          |95         |0.3473684210526316 |\n",
      "|rowing machine |negative |13          |65         |0.2                |\n",
      "|rowing machine |neutral  |7           |49         |0.14285714285714285|\n",
      "|rowing machine |positive |22          |74         |0.2972972972972973 |\n",
      "|shaver         |negative |66          |125        |0.528              |\n",
      "|shaver         |neutral  |58          |89         |0.651685393258427  |\n",
      "|shaver         |positive |38          |86         |0.4418604651162791 |\n",
      "|speakers       |negative |45          |129        |0.3488372093023256 |\n",
      "|speakers       |neutral  |96          |136        |0.7058823529411765 |\n",
      "|speakers       |positive |75          |138        |0.5434782608695652 |\n",
      "|tablet         |negative |36          |92         |0.391304347826087  |\n",
      "|tablet         |neutral  |54          |86         |0.627906976744186  |\n",
      "|tablet         |positive |43          |86         |0.5                |\n",
      "|television     |negative |53          |166        |0.3192771084337349 |\n",
      "|television     |neutral  |105         |150        |0.7                |\n",
      "|television     |positive |99          |167        |0.592814371257485  |\n",
      "|treadmill      |negative |25          |79         |0.31645569620253167|\n",
      "|treadmill      |neutral  |52          |89         |0.5842696629213483 |\n",
      "|treadmill      |positive |42          |75         |0.56               |\n",
      "|vitamin        |negative |71          |85         |0.8352941176470589 |\n",
      "|vitamin        |neutral  |66          |81         |0.8148148148148148 |\n",
      "|vitamin        |positive |14          |75         |0.18666666666666668|\n",
      "|washer         |negative |95          |252        |0.376984126984127  |\n",
      "|washer         |neutral  |123         |236        |0.5211864406779662 |\n",
      "|washer         |positive |180         |278        |0.6474820143884892 |\n",
      "|women's purse  |negative |51          |132        |0.38636363636363635|\n",
      "|women's purse  |neutral  |100         |144        |0.6944444444444444 |\n",
      "|women's purse  |positive |70          |153        |0.45751633986928103|\n",
      "+---------------+---------+------------+-----------+-------------------+\n",
      "\n"
     ]
    }
   ],
   "source": [
    "# For each product type, compute the click rate for each sentiment type\n",
    "type_sent_click = product_log.groupBy(\"product_type\", \"sentiment\").agg(\n",
    "    sum(col(\"got_click\")).alias(\"total_clicks\"),\n",
    "    count(\"*\").alias(\"total_count\")\n",
    ")\n",
    "type_sent_click = type_sent_click.withColumn(\n",
    "    \"click_rate\", col(\"total_clicks\") / col(\"total_count\")\n",
    ")\n",
    "type_sent_click = type_sent_click.orderBy(\"product_type\", \"sentiment\")\n",
    "print(type_sent_click.count())\n",
    "type_sent_click.show(n=type_sent_click.count(), truncate=False)"
   ]
  },
  {
   "cell_type": "code",
   "execution_count": 31,
   "metadata": {},
   "outputs": [
    {
     "name": "stdout",
     "output_type": "stream",
     "text": [
      "12\n",
      "+--------------------+------------+-----------+-------------------+\n",
      "|            category|total_clicks|total_count|         click_rate|\n",
      "+--------------------+------------+-----------+-------------------+\n",
      "|     beauty products|         952|       1642| 0.5797807551766139|\n",
      "|large kitchen app...|         702|       1538| 0.4564369310793238|\n",
      "|             apparel|         427|        866| 0.4930715935334873|\n",
      "| small kitchen ap...|         235|        436| 0.5389908256880734|\n",
      "|   fitness equipment|         161|        431|0.37354988399071926|\n",
      "|              health|         151|        241| 0.6265560165975104|\n",
      "|         accessories|         221|        429| 0.5151515151515151|\n",
      "|consumer electronics|         768|       1450| 0.5296551724137931|\n",
      "|       packaged food|         151|        425| 0.3552941176470588|\n",
      "|  household durables|         212|        382| 0.5549738219895288|\n",
      "|      transportation|         173|        467|0.37044967880085655|\n",
      "| consumer electro...|         594|       1245| 0.4771084337349398|\n",
      "+--------------------+------------+-----------+-------------------+\n",
      "\n"
     ]
    }
   ],
   "source": [
    "# For each category, compute the click rate for it.\n",
    "product_log_cat = product_log.join(product_cat, product_log.product_type == product_cat.product, how=\"inner\")\n",
    "cat_click = product_log_cat.groupBy(\"category\").agg(\n",
    "    sum(col(\"got_click\")).alias(\"total_clicks\"),\n",
    "    count(\"*\").alias(\"total_count\")\n",
    ")\n",
    "cat_click = cat_click.withColumn(\n",
    "    \"click_rate\", col(\"total_clicks\") / col(\"total_count\")\n",
    ")\n",
    "print(cat_click.count())\n",
    "cat_click.show()"
   ]
  },
  {
   "cell_type": "code",
   "execution_count": 41,
   "metadata": {},
   "outputs": [
    {
     "name": "stdout",
     "output_type": "stream",
     "text": [
      "36\n",
      "+-------------------------+---------+------------+-----------+-------------------+\n",
      "|category                 |sentiment|total_clicks|total_count|click_rate         |\n",
      "+-------------------------+---------+------------+-----------+-------------------+\n",
      "| consumer electronics    |negative |147         |413        |0.3559322033898305 |\n",
      "| consumer electronics    |neutral  |206         |426        |0.4835680751173709 |\n",
      "| consumer electronics    |positive |241         |406        |0.5935960591133005 |\n",
      "| packaged food           |negative |67          |144        |0.4652777777777778 |\n",
      "| packaged food           |neutral  |50          |140        |0.35714285714285715|\n",
      "| packaged food           |positive |34          |141        |0.24113475177304963|\n",
      "| small kitchen appliances|negative |90          |162        |0.5555555555555556 |\n",
      "| small kitchen appliances|neutral  |80          |148        |0.5405405405405406 |\n",
      "| small kitchen appliances|positive |65          |126        |0.5158730158730159 |\n",
      "|accessories              |negative |51          |132        |0.38636363636363635|\n",
      "|accessories              |neutral  |100         |144        |0.6944444444444444 |\n",
      "|accessories              |positive |70          |153        |0.45751633986928103|\n",
      "|apparel                  |negative |123         |320        |0.384375           |\n",
      "|apparel                  |neutral  |160         |248        |0.6451612903225806 |\n",
      "|apparel                  |positive |144         |298        |0.48322147651006714|\n",
      "|beauty products          |negative |305         |535        |0.5700934579439252 |\n",
      "|beauty products          |neutral  |347         |582        |0.5962199312714777 |\n",
      "|beauty products          |positive |300         |525        |0.5714285714285714 |\n",
      "|consumer electronics     |negative |200         |512        |0.390625           |\n",
      "|consumer electronics     |neutral  |313         |461        |0.6789587852494577 |\n",
      "|consumer electronics     |positive |255         |477        |0.5345911949685535 |\n",
      "|fitness equipment        |negative |38          |144        |0.2638888888888889 |\n",
      "|fitness equipment        |neutral  |59          |138        |0.427536231884058  |\n",
      "|fitness equipment        |positive |64          |149        |0.42953020134228187|\n",
      "|health                   |negative |71          |85         |0.8352941176470589 |\n",
      "|health                   |neutral  |66          |81         |0.8148148148148148 |\n",
      "|health                   |positive |14          |75         |0.18666666666666668|\n",
      "|household durables       |negative |99          |120        |0.825              |\n",
      "|household durables       |neutral  |77          |133        |0.5789473684210527 |\n",
      "|household durables       |positive |36          |129        |0.27906976744186046|\n",
      "|large kitchen appliances |negative |162         |515        |0.3145631067961165 |\n",
      "|large kitchen appliances |neutral  |277         |488        |0.5676229508196722 |\n",
      "|large kitchen appliances |positive |263         |535        |0.491588785046729  |\n",
      "|transportation           |negative |58          |148        |0.3918918918918919 |\n",
      "|transportation           |neutral  |89          |153        |0.5816993464052288 |\n",
      "|transportation           |positive |26          |166        |0.1566265060240964 |\n",
      "+-------------------------+---------+------------+-----------+-------------------+\n",
      "\n"
     ]
    }
   ],
   "source": [
    "# Similar to above, for each category compute the click rate for each sentiment type\n",
    "cat_sent_click = product_log_cat.groupBy(\"category\",\"sentiment\").agg(\n",
    "    sum(col(\"got_click\")).alias(\"total_clicks\"),\n",
    "    count(\"*\").alias(\"total_count\")\n",
    ")\n",
    "cat_sent_click = cat_sent_click.withColumn(\n",
    "    \"click_rate\", col(\"total_clicks\") / col(\"total_count\")\n",
    ")\n",
    "cat_sent_click = cat_sent_click.orderBy(\"category\", \"sentiment\")\n",
    "print(cat_sent_click.count())\n",
    "cat_sent_click.show(n=cat_sent_click.count(), truncate=False)"
   ]
  },
  {
   "cell_type": "code",
   "execution_count": 33,
   "metadata": {},
   "outputs": [
    {
     "name": "stdout",
     "output_type": "stream",
     "text": [
      "+----------------+---------+------------+-----------+-------------------+\n",
      "|         product|sentiment|total_clicks|total_count|         click_rate|\n",
      "+----------------+---------+------------+-----------+-------------------+\n",
      "|Starbucks Coffee| negative|          30|        100|                0.3|\n",
      "|Starbucks Coffee|  neutral|          33|        102| 0.3235294117647059|\n",
      "|Starbucks Coffee| positive|          22|        106|0.20754716981132076|\n",
      "+----------------+---------+------------+-----------+-------------------+\n",
      "\n"
     ]
    }
   ],
   "source": [
    "# Choose a product randomly; determine if there are any 'significant' differences \n",
    "# in the click rate between positive and negative sentiment type of the ad context \n",
    "# for that product type given the gender of the viewer.\n",
    "starbucks = product_sent_click.filter(col(\"product\") == \"Starbucks Coffee\")\n",
    "starbucks.show()\n"
   ]
  },
  {
   "cell_type": "markdown",
   "metadata": {},
   "source": [
    "Assuming a binomial distribution for click rate, apply z-test:\n",
    "- **Null Hypothesis:** There is no significant difference between the click rates for positive and negative sentiment types:\n",
    "$$ H_0: p_1 = p_2 $$\n",
    "- **Alternative Hypothesis:** There is a significant difference between the click rates for positive and negative sentiment types:\n",
    "$$ H_1: p_1 \\neq p_2 $$\n",
    "\n",
    "\n",
    "​\n"
   ]
  },
  {
   "cell_type": "code",
   "execution_count": null,
   "metadata": {},
   "outputs": [
    {
     "name": "stdout",
     "output_type": "stream",
     "text": [
      "Z-score: -1.5266684163098292\n",
      "P-value: 0.12684348491358133\n"
     ]
    }
   ],
   "source": [
    "from math import sqrt\n",
    "from scipy.stats import norm\n",
    "\n",
    "positive = starbucks.filter(col(\"sentiment\") == \"positive\").collect()[0]\n",
    "negative = starbucks.filter(col(\"sentiment\") == \"negative\").collect()[0]\n",
    "\n",
    "# Positive sentiment stats\n",
    "p1 = positive[\"click_rate\"] \n",
    "n1 = positive[\"total_count\"]  \n",
    "x1 = positive[\"total_clicks\"] \n",
    "\n",
    "# Negative sentiment stats\n",
    "p2 = negative[\"click_rate\"]  \n",
    "n2 = negative[\"total_count\"]  \n",
    "x2 = negative[\"total_clicks\"]  \n",
    "\n",
    "# Pooled proportion\n",
    "p_hat = (x1 + x2) / (n1 + n2)\n",
    "\n",
    "# Standard error\n",
    "se = sqrt(p_hat * (1 - p_hat) * (1/n1 + 1/n2))\n",
    "\n",
    "# Z-score\n",
    "z = (p1 - p2) / se\n",
    "\n",
    "# Two-tailed p-value\n",
    "p_value = 2 * (1 - norm.cdf(abs(z)))\n",
    "\n",
    "print(f\"Z-score: {z}\")\n",
    "print(f\"P-value: {p_value}\")\n"
   ]
  },
  {
   "cell_type": "markdown",
   "metadata": {},
   "source": [
    "Since $p=0.1268>0.05$, we fail to reject the null hypothesis. This means that the observed difference in click rates between positive and negative sentiments for Starbucks Coffee is not statistically significant at the 5% level."
   ]
  },
  {
   "cell_type": "markdown",
   "metadata": {},
   "source": [
    "**Extra Credit**\n",
    "- Compute the click rate for each age group."
   ]
  },
  {
   "cell_type": "code",
   "execution_count": 57,
   "metadata": {},
   "outputs": [
    {
     "name": "stdout",
     "output_type": "stream",
     "text": [
      "+----------+------------+-----------+-------------------+\n",
      "|age_group |total_clicks|total_count|click_rate         |\n",
      "+----------+------------+-----------+-------------------+\n",
      "|juvenile  |1181        |2485       |0.47525150905432595|\n",
      "|middle-age|1180        |2497       |0.4725670804965959 |\n",
      "|senior    |1338        |2490       |0.5373493975903615 |\n",
      "|young     |1354        |2528       |0.5356012658227848 |\n",
      "+----------+------------+-----------+-------------------+\n",
      "\n"
     ]
    }
   ],
   "source": [
    "age_click = log.groupBy()\n",
    "age_click = log.groupBy(\"age_group\").agg(\n",
    "    sum(col(\"got_click\")).alias(\"total_clicks\"),\n",
    "    count(\"*\").alias(\"total_count\")\n",
    ")\n",
    "age_click = age_click.withColumn(\n",
    "    \"click_rate\", col(\"total_clicks\") / col(\"total_count\")\n",
    ")\n",
    "age_click = age_click.orderBy(\"age_group\")\n",
    "age_click.show(n=age_click.count(), truncate=False)"
   ]
  },
  {
   "cell_type": "markdown",
   "metadata": {},
   "source": [
    "We observe that senior and young people generally have higher click rates than the other two age groups."
   ]
  },
  {
   "cell_type": "markdown",
   "metadata": {},
   "source": [
    "- Compute the click rate for each gender."
   ]
  },
  {
   "cell_type": "code",
   "execution_count": 58,
   "metadata": {},
   "outputs": [
    {
     "name": "stdout",
     "output_type": "stream",
     "text": [
      "+----------+------------+-----------+------------------+\n",
      "|gender    |total_clicks|total_count|click_rate        |\n",
      "+----------+------------+-----------+------------------+\n",
      "|female    |2564        |5050       |0.5077227722772277|\n",
      "|male      |2477        |4929       |0.5025360113613309|\n",
      "|non-binary|12          |21         |0.5714285714285714|\n",
      "+----------+------------+-----------+------------------+\n",
      "\n"
     ]
    }
   ],
   "source": [
    "gender_click = log.groupBy()\n",
    "gender_click = log.groupBy(\"gender\").agg(\n",
    "    sum(col(\"got_click\")).alias(\"total_clicks\"),\n",
    "    count(\"*\").alias(\"total_count\")\n",
    ")\n",
    "gender_click = gender_click.withColumn(\n",
    "    \"click_rate\", col(\"total_clicks\") / col(\"total_count\")\n",
    ")\n",
    "gender_click = gender_click.orderBy(\"gender\")\n",
    "gender_click.show(n=gender_click.count(), truncate=False)"
   ]
  },
  {
   "cell_type": "markdown",
   "metadata": {},
   "source": [
    "We observe that non-binary individuals have higher click rates compared to the other two genders. However, this difference could be influenced by the smaller sample size for non-binary individuals, which may skew the results."
   ]
  },
  {
   "cell_type": "markdown",
   "metadata": {},
   "source": [
    "- Compute the click rate for each sentiment."
   ]
  },
  {
   "cell_type": "code",
   "execution_count": 59,
   "metadata": {},
   "outputs": [
    {
     "name": "stdout",
     "output_type": "stream",
     "text": [
      "+---------+------------+-----------+-------------------+\n",
      "|sentiment|total_clicks|total_count|click_rate         |\n",
      "+---------+------------+-----------+-------------------+\n",
      "|negative |1566        |3392       |0.46167452830188677|\n",
      "|neutral  |1922        |3279       |0.5861543153400427 |\n",
      "|positive |1565        |3329       |0.4701111444878342 |\n",
      "+---------+------------+-----------+-------------------+\n",
      "\n"
     ]
    }
   ],
   "source": [
    "sent_click = log.groupBy()\n",
    "sent_click = log.groupBy(\"sentiment\").agg(\n",
    "    sum(col(\"got_click\")).alias(\"total_clicks\"),\n",
    "    count(\"*\").alias(\"total_count\")\n",
    ")\n",
    "sent_click = sent_click.withColumn(\n",
    "    \"click_rate\", col(\"total_clicks\") / col(\"total_count\")\n",
    ")\n",
    "sent_click = sent_click.orderBy(\"sentiment\")\n",
    "sent_click.show(n=sent_click.count(), truncate=False)"
   ]
  },
  {
   "cell_type": "markdown",
   "metadata": {},
   "source": [
    "We can see that people with neutral sentiment have the highest click rate among all sentiments."
   ]
  },
  {
   "cell_type": "markdown",
   "metadata": {},
   "source": [
    "- For each age group, what are the types of product with the top 5 highest ads click rate?"
   ]
  },
  {
   "cell_type": "code",
   "execution_count": null,
   "metadata": {},
   "outputs": [
    {
     "name": "stdout",
     "output_type": "stream",
     "text": [
      "+---------------+----------+------------+-----------+------------------+----+\n",
      "|   product_type| age_group|total_clicks|total_count|        click_rate|rank|\n",
      "+---------------+----------+------------+-----------+------------------+----+\n",
      "|     face cream|  juvenile|          43|         54|0.7962962962962963|   1|\n",
      "|        vitamin|  juvenile|          36|         58|0.6206896551724138|   2|\n",
      "|  women's purse|  juvenile|          54|         89|0.6067415730337079|   3|\n",
      "|pressure cooker|  juvenile|          27|         45|               0.6|   4|\n",
      "|       lipstick|  juvenile|          51|         89|0.5730337078651685|   5|\n",
      "|     face cream|middle-age|          44|         53|0.8301886792452831|   1|\n",
      "|          pants|middle-age|          36|         47|0.7659574468085106|   2|\n",
      "|        blender|middle-age|          35|         57|0.6140350877192983|   3|\n",
      "|       lipstick|middle-age|          49|         82|0.5975609756097561|   4|\n",
      "|        vitamin|middle-age|          31|         54|0.5740740740740741|   5|\n",
      "|       lipstick|    senior|          63|         79|0.7974683544303798|   1|\n",
      "|     face cream|    senior|          37|         48|0.7708333333333334|   2|\n",
      "|          pants|    senior|          28|         41|0.6829268292682927|   3|\n",
      "|        vitamin|    senior|          39|         62|0.6290322580645161|   4|\n",
      "|        perfume|    senior|         144|        229|  0.62882096069869|   5|\n",
      "|     face cream|     young|          50|         61| 0.819672131147541|   1|\n",
      "|       lipstick|     young|          64|         92|0.6956521739130435|   2|\n",
      "|          pants|     young|          25|         37|0.6756756756756757|   3|\n",
      "|        vitamin|     young|          45|         67|0.6716417910447762|   4|\n",
      "|         washer|     young|         110|        181|0.6077348066298343|   5|\n",
      "+---------------+----------+------------+-----------+------------------+----+\n",
      "\n"
     ]
    }
   ],
   "source": [
    "from pyspark.sql.window import Window\n",
    "from pyspark.sql.functions import rank, col, desc\n",
    "\n",
    "type_age_click = product_log.groupBy(\"product_type\", \"age_group\").agg(\n",
    "    sum(col(\"got_click\")).alias(\"total_clicks\"),\n",
    "    count(\"*\").alias(\"total_count\")\n",
    ")\n",
    "type_age_click = type_age_click.withColumn(\n",
    "    \"click_rate\", col(\"total_clicks\") / col(\"total_count\")\n",
    ")\n",
    "window_spec = Window.partitionBy(\"age_group\").orderBy(desc(\"click_rate\"))\n",
    "type_age_click_ranked = type_age_click.withColumn(\"rank\", rank().over(window_spec))\n",
    "top_5_by_age_group = type_age_click_ranked.filter(col(\"rank\") <= 5)\n",
    "top_5_by_age_group.show()"
   ]
  },
  {
   "cell_type": "markdown",
   "metadata": {},
   "source": [
    "We can see that the ads for face cream have the highest click rate across all age groups, except for senior. Some other types of product with high click rates are pants, vitamin and lipstick."
   ]
  },
  {
   "cell_type": "markdown",
   "metadata": {},
   "source": [
    "- Find the top 5 brands with the highest click rates and the top 5 brands with the lowest click rates for each gender."
   ]
  },
  {
   "cell_type": "code",
   "execution_count": 60,
   "metadata": {},
   "outputs": [
    {
     "name": "stdout",
     "output_type": "stream",
     "text": [
      "+----------+----------+------------+-----------+------------------+----+\n",
      "|    gender|     brand|total_clicks|total_count|        click_rate|rank|\n",
      "+----------+----------+------------+-----------+------------------+----+\n",
      "|    female| covergirl|          53|         65|0.8153846153846154|   1|\n",
      "|    female|   Giorgio|          85|        105|0.8095238095238095|   2|\n",
      "|    female|  Clinique|          93|        119|0.7815126050420168|   3|\n",
      "|    female|  Gillette|          65|         84|0.7738095238095238|   4|\n",
      "|    female|    Docker|          51|         72|0.7083333333333334|   5|\n",
      "|      male|  Clinique|          80|         96|0.8333333333333334|   1|\n",
      "|      male| covergirl|          59|         72|0.8194444444444444|   2|\n",
      "|      male|   Giorgio|          86|        109|0.7889908256880734|   3|\n",
      "|      male|BasilBasel|          53|         77|0.6883116883116883|   4|\n",
      "|      male|      Kaai|          73|        108|0.6759259259259259|   5|\n",
      "|non-binary|       Lee|           1|          1|               1.0|   1|\n",
      "|non-binary| Starbucks|           1|          1|               1.0|   1|\n",
      "|non-binary|   Samsung|           1|          1|               1.0|   1|\n",
      "|non-binary|     Apple|           1|          1|               1.0|   1|\n",
      "|non-binary|  Clinique|           1|          1|               1.0|   1|\n",
      "|non-binary|      Kaai|           1|          1|               1.0|   1|\n",
      "|non-binary|    Docker|           1|          1|               1.0|   1|\n",
      "|non-binary|      bose|           1|          1|               1.0|   1|\n",
      "+----------+----------+------------+-----------+------------------+----+\n",
      "\n"
     ]
    }
   ],
   "source": [
    "from pyspark.sql.functions import split\n",
    "\n",
    "product_log = product_log.withColumn(\n",
    "    \"brand\", \n",
    "    split(col(\"product\"), \" \")[0]\n",
    ")\n",
    "\n",
    "gender_brand_click = product_log.groupBy(\"gender\", \"brand\").agg(\n",
    "    sum(col(\"got_click\")).alias(\"total_clicks\"),\n",
    "    count(\"*\").alias(\"total_count\")\n",
    ")\n",
    "gender_brand_click = gender_brand_click.withColumn(\n",
    "    \"click_rate\", col(\"total_clicks\") / col(\"total_count\")\n",
    ")\n",
    "window_spec = Window.partitionBy(\"gender\").orderBy(desc(\"click_rate\"))\n",
    "gender_brand_click_ranked = gender_brand_click.withColumn(\"rank\", rank().over(window_spec))\n",
    "top_5_by_gender = gender_brand_click_ranked.filter(col(\"rank\") <= 5)\n",
    "top_5_by_gender.show()"
   ]
  },
  {
   "cell_type": "code",
   "execution_count": 61,
   "metadata": {},
   "outputs": [
    {
     "name": "stdout",
     "output_type": "stream",
     "text": [
      "+----------+-----------+------------+-----------+-------------------+----+\n",
      "|    gender|      brand|total_clicks|total_count|         click_rate|rank|\n",
      "+----------+-----------+------------+-----------+-------------------+----+\n",
      "|    female|       Ford|          14|        115|0.12173913043478261|   1|\n",
      "|    female|  Covergirl|          21|         98|0.21428571428571427|   2|\n",
      "|    female|     Cougar|          37|        146| 0.2534246575342466|   3|\n",
      "|    female|  Remington|          14|         55| 0.2545454545454545|   4|\n",
      "|    female|      Haier|          22|         83|0.26506024096385544|   5|\n",
      "|      male|      Haier|          11|         76|0.14473684210526316|   1|\n",
      "|      male|       Ford|          17|        112|0.15178571428571427|   2|\n",
      "|      male|  Starbucks|          38|        162| 0.2345679012345679|   3|\n",
      "|      male|     Cougar|          34|        127| 0.2677165354330709|   4|\n",
      "|      male|       Sony|          23|         79| 0.2911392405063291|   5|\n",
      "|non-binary|   Broyhill|           0|          1|                0.0|   1|\n",
      "|non-binary|  Remington|           0|          1|                0.0|   1|\n",
      "|non-binary|NordicTrack|           0|          1|                0.0|   1|\n",
      "|non-binary|   Gillette|           0|          1|                0.0|   1|\n",
      "|non-binary|  Covergirl|           0|          1|                0.0|   1|\n",
      "|non-binary|      Guess|           0|          1|                0.0|   1|\n",
      "|non-binary|     Jaguar|           0|          1|                0.0|   1|\n",
      "|non-binary|      Coach|           0|          1|                0.0|   1|\n",
      "+----------+-----------+------------+-----------+-------------------+----+\n",
      "\n"
     ]
    }
   ],
   "source": [
    "window_spec = Window.partitionBy(\"gender\").orderBy(\"click_rate\")\n",
    "gender_brand_click_ranked_asc = gender_brand_click.withColumn(\"rank\", rank().over(window_spec))\n",
    "bottom_5_by_gender = gender_brand_click_ranked_asc.filter(col(\"rank\") <= 5)\n",
    "bottom_5_by_gender.show()"
   ]
  }
 ],
 "metadata": {
  "kernelspec": {
   "display_name": "env",
   "language": "python",
   "name": "python3"
  },
  "language_info": {
   "codemirror_mode": {
    "name": "ipython",
    "version": 3
   },
   "file_extension": ".py",
   "mimetype": "text/x-python",
   "name": "python",
   "nbconvert_exporter": "python",
   "pygments_lexer": "ipython3",
   "version": "3.12.3"
  }
 },
 "nbformat": 4,
 "nbformat_minor": 2
}
